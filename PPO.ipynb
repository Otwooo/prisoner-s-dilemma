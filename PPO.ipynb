{
 "cells": [
  {
   "cell_type": "markdown",
   "metadata": {},
   "source": [
    "## 1. 라이브러리 불러오기"
   ]
  },
  {
   "cell_type": "code",
   "execution_count": 1,
   "metadata": {},
   "outputs": [],
   "source": [
    "import gymnasium as gym\n",
    "from gymnasium import Env \n",
    "import numpy as np\n",
    "from gymnasium.spaces import Box, Discrete\n",
    "\n",
    "import random\n",
    "random.seed(42)"
   ]
  },
  {
   "cell_type": "markdown",
   "metadata": {},
   "source": [
    "## 2. 환경 만들기"
   ]
  },
  {
   "cell_type": "code",
   "execution_count": 2,
   "metadata": {},
   "outputs": [],
   "source": [
    "def All_Cooperate(state, game_step): # 항상 협력\n",
    "    return 1\n",
    "\n",
    "def All_Cheat(state, game_step): # 항상 배신\n",
    "    return 0\n",
    "\n",
    "def Copycat(state, game_step): # 처음에는 협력 이후, 상대방의 전 전략을 따라함\n",
    "    if game_step == 0:\n",
    "        return 1\n",
    "    else:\n",
    "        return state[game_step-2]\n",
    "    \n",
    "def Grudger(state, game_step): # 항상 협력, 하지만 상대방이 한번이라도 배신하면 끝까지 배신\n",
    "    for i in range(0, game_step-2+1, 2):        \n",
    "        if state[i] == 0:            \n",
    "            return 0\n",
    "    return 1\n",
    "\n",
    "def Detective(state, game_step): # 1-0-1-1으로 시작하고, 이 때 상대가 한번이라도 배신하면 Copycat 방식, 그렇지 않으면 All_Cheat 방식을 따른다.\n",
    "    start = [1, -1, 0, -1, 1, -1, 1]\n",
    "    if game_step <= 6:\n",
    "        return start[game_step]\n",
    "    \n",
    "    for i in range(0, 7, 2):\n",
    "        if state[i] == 0:\n",
    "            return Copycat(state, game_step)\n",
    "    return All_Cheat(state, game_step)\n",
    "\n",
    "def Copykitten(state, game_step): # 첫번 째는 협력으로 시작한다. 상대가 두번연속 배신하면 배신한다.\n",
    "    if game_step == 0 or game_step == 2:\n",
    "        return 1\n",
    "    elif state[game_step-2] == 0 and state[game_step-4] == 0:\n",
    "        return 0\n",
    "    return 1\n",
    "\n",
    "def Simpleton(state, game_step): # 첫번 째는 협력으로 시작한다. 상대가 협력하면 내 마지막 수와 같은 수를, 상대가 배신하면 내 마지막 수와 다른 수를 둔다.    \n",
    "    if game_step == 0:\n",
    "        return 1\n",
    "    elif state[game_step-2] == 1:\n",
    "        return state[game_step-1]\n",
    "    elif state[game_step-2] == 0:\n",
    "        if state[game_step-1] == 1:\n",
    "            return 0\n",
    "        elif state[game_step-1] == 0:\n",
    "            return 1\n",
    "        \n",
    "def Random_Game(state, game_step):\n",
    "    return random.choice([0, 1])\n"
   ]
  },
  {
   "cell_type": "code",
   "execution_count": 3,
   "metadata": {},
   "outputs": [],
   "source": [
    "class PrisonersGame(Env):\n",
    "    def __init__(self):\n",
    "        super().__init__()\n",
    "\n",
    "        self.action_space = Discrete(2)\n",
    "        self.observation_space = Box(low=-1, high=1, shape=(20,), dtype=np.int32)\n",
    "\n",
    "        self.state = np.array([-1 for i in range(30)]).astype(np.int32)\n",
    "        self.game_step = 0\n",
    "\n",
    "        self.Opponent_Game_type = [\"All_Cooperate\", \"All_Cheat\", \"Copycat\", \"Grudger\", \"Detective\", \"Copykitten\", \"Simpleton\", \"Random_Game\"]  \n",
    "        self.player = random.randint(0, 7)\n",
    "    \n",
    "    def get_observation(self):  \n",
    "        return self.state\n",
    "    \n",
    "    def get_done(self):\n",
    "        done=False\n",
    "        if self.state[19] != -1:\n",
    "            done = True\n",
    "        return done\n",
    "\n",
    "    def reset(self, seed=None, options=None):\n",
    "        super().reset(seed=seed)\n",
    "        self.state = np.array([-1 for i in range(20)]).astype(np.int32)\n",
    "        self.game_step = 0      \n",
    "        self.player = random.randint(0, 7)\n",
    "\n",
    "        obs = self.get_observation()\n",
    "        info = {}\n",
    "        return (obs, info)\n",
    "    \n",
    "    def step(self, action):\n",
    "\n",
    "        self.state[self.game_step] = action              \n",
    "        self.state[self.game_step+1] = eval(self.Opponent_Game_type[self.player])(self.state, self.game_step)\n",
    "        \n",
    "        reward = 0\n",
    "        if self.state[self.game_step] == 1: # 나는 협력을 했는데\n",
    "            if self.state[self.game_step+1] == 1: # 상대도 협력\n",
    "                reward = +2\n",
    "            elif self.state[self.game_step+1] == 1: # 상대는 배신\n",
    "                reward = -1\n",
    "        if self.state[self.game_step] == 0: # 나는 배신을 했는데\n",
    "            if self.state[self.game_step+1] == 1: # 상대는 협력\n",
    "                reward = +3\n",
    "            elif self.state[self.game_step+1] == 0: # 상대도 배신\n",
    "                reward = -0\n",
    "        \n",
    "        self.game_step += 2\n",
    "        \n",
    "        observation = self.get_observation()\n",
    "        done = self.get_done() \n",
    "        truncated = False\n",
    "        info = {}\n",
    "        return observation, reward, truncated, done, info\n",
    "\n",
    "    def step_select_op(self, num, action):\n",
    "        self.state[self.game_step] = action\n",
    "        self.state[self.game_step+1] = eval(self.Opponent_Game_type[num])(self.state, self.game_step)\n",
    "\n",
    "        reward = 0\n",
    "        if self.state[self.game_step] == 1: # 나는 협력을 했는데\n",
    "            if self.state[self.game_step+1] == 1: # 상대도 협력\n",
    "                reward = +2\n",
    "            elif self.state[self.game_step+1] == 1: # 상대는 배신\n",
    "                reward = -1\n",
    "        if self.state[self.game_step] == 0: # 나는 배신을 했는데\n",
    "            if self.state[self.game_step+1] == 1: # 상대는 협력\n",
    "                reward = +3\n",
    "            elif self.state[self.game_step+1] == 0: # 상대도 배신\n",
    "                reward = -0\n",
    "        \n",
    "        self.game_step += 2\n",
    "        \n",
    "        observation = self.get_observation()\n",
    "        done = self.get_done() \n",
    "        truncated = False\n",
    "        info = {}\n",
    "        return observation, reward, truncated, done, info\n",
    "\n",
    "    def render(self):\n",
    "        pass"
   ]
  },
  {
   "cell_type": "code",
   "execution_count": 4,
   "metadata": {},
   "outputs": [],
   "source": [
    "env = PrisonersGame()"
   ]
  },
  {
   "cell_type": "code",
   "execution_count": 5,
   "metadata": {},
   "outputs": [
    {
     "name": "stdout",
     "output_type": "stream",
     "text": [
      "[-1 -1 -1 -1 -1 -1 -1 -1 -1 -1 -1 -1 -1 -1 -1 -1 -1 -1 -1 -1 -1 -1 -1 -1\n",
      " -1 -1 -1 -1 -1 -1]\n"
     ]
    }
   ],
   "source": [
    "obs=env.get_observation()\n",
    "print(obs)"
   ]
  },
  {
   "cell_type": "code",
   "execution_count": 6,
   "metadata": {},
   "outputs": [
    {
     "name": "stdout",
     "output_type": "stream",
     "text": [
      "Total Reward for episode 0 is 26\n",
      "Total Reward for episode 1 is 12\n",
      "Total Reward for episode 2 is 3\n",
      "Total Reward for episode 3 is 5\n",
      "Total Reward for episode 4 is 16\n",
      "Total Reward for episode 5 is 0\n",
      "Total Reward for episode 6 is 0\n",
      "Total Reward for episode 7 is 16\n",
      "Total Reward for episode 8 is 24\n",
      "Total Reward for episode 9 is 24\n"
     ]
    }
   ],
   "source": [
    "for episode in range(10):\n",
    "    obs = env.reset()\n",
    "    done = False  \n",
    "    total_reward   = 0\n",
    "    while not done: \n",
    "        obs, reward, truncated, done, info =  env.step(env.action_space.sample())\n",
    "        total_reward  += reward\n",
    "    print('Total Reward for episode {} is {}'.format(episode, total_reward))\n"
   ]
  },
  {
   "cell_type": "markdown",
   "metadata": {},
   "source": [
    "## 3. 모델 만들기"
   ]
  },
  {
   "cell_type": "code",
   "execution_count": 7,
   "metadata": {},
   "outputs": [
    {
     "name": "stderr",
     "output_type": "stream",
     "text": [
      "/Users/baesonghyeon/Documents/Project/prisoner's dilemma/venv/lib/python3.11/site-packages/gymnasium/utils/env_checker.py:270: UserWarning: \u001b[33mWARN: `check_env(warn=...)` parameter is now ignored.\u001b[0m\n",
      "  logger.warn(\"`check_env(warn=...)` parameter is now ignored.\")\n"
     ]
    }
   ],
   "source": [
    "from gymnasium.utils.env_checker import check_env\n",
    "\n",
    "env = PrisonersGame()\n",
    "check_env(env , warn = True , skip_render_check = True )"
   ]
  },
  {
   "cell_type": "code",
   "execution_count": 9,
   "metadata": {},
   "outputs": [
    {
     "name": "stdout",
     "output_type": "stream",
     "text": [
      "Using cpu device\n"
     ]
    },
    {
     "data": {
      "image/png": "[encoded data removed]",
      "text/plain": [
       "<Figure size 640x480 with 1 Axes>"
      ]
     },
     "metadata": {},
     "output_type": "display_data"
    }
   ],
   "source": [
    "import gymnasium as gym\n",
    "import matplotlib.pyplot as plt\n",
    "\n",
    "from stable_baselines3 import PPO\n",
    "from stable_baselines3.common.env_util import make_vec_env\n",
    "\n",
    "vec_env = make_vec_env(PrisonersGame, n_envs=4)\n",
    "model = PPO(\"MlpPolicy\", vec_env, verbose=1)\n",
    "\n",
    "num_episodes = 200000\n",
    "episode_rewards = [[], []]\n",
    "\n",
    "def cal_average_reward():\n",
    "    reward_li = []\n",
    "    for i in range(1000):\n",
    "        obs, info = env.reset()\n",
    "        done = False\n",
    "        total_reward = 0\n",
    "\n",
    "        while not done:\n",
    "            action, _states = model.predict(obs, deterministic=True)\n",
    "            next_obs, reward, truncated, done, _ = env.step(action)\n",
    "            total_reward += reward\n",
    "            obs = next_obs\n",
    "        reward_li.append(total_reward)\n",
    "    return sum(reward_li)/len(reward_li)\n",
    "\n",
    "for episode in range(0, num_episodes, 1000):\n",
    "\n",
    "    model.learn(total_timesteps=1000, log_interval=4)\n",
    "    episode_rewards[0].append(episode)\n",
    "    average = cal_average_reward()\n",
    "    episode_rewards[1].append(average)\n",
    "\n",
    "model.save(\"./model/PPO_PrisonersGame\")\n",
    "del model\n",
    "\n",
    "plt.plot(episode_rewards[0], episode_rewards[1])\n",
    "plt.xlabel(\"Episode\")\n",
    "plt.ylabel(\"Average Reward\")\n",
    "plt.title(\"PPO Training Progress\")\n",
    "plt.show()"
   ]
  },
  {
   "cell_type": "code",
   "execution_count": 15,
   "metadata": {},
   "outputs": [
    {
     "name": "stdout",
     "output_type": "stream",
     "text": [
      "All_Cooperate\n",
      "result : [0 1 0 1 0 1 0 1 0 1 0 1 0 1 0 1 1 1 0 1] reward : 29\n",
      "All_Cheat\n",
      "result : [0 0 0 0 0 0 0 0 0 0 1 0 0 0 0 0 1 0 0 0] reward : 0\n",
      "Copycat\n",
      "result : [0 1 0 0 0 0 0 0 0 0 1 0 0 1 0 0 1 0 0 1] reward : 9\n",
      "Grudger\n",
      "result : [0 1 0 0 0 0 0 0 0 0 1 0 0 0 0 0 1 0 0 0] reward : 3\n",
      "Detective\n",
      "result : [0 1 0 0 0 1 0 1 0 0 1 0 0 1 0 0 1 0 0 1] reward : 15\n",
      "Copykitten\n",
      "result : [0 1 0 1 0 0 0 0 0 0 1 0 0 1 0 1 1 0 0 1] reward : 15\n",
      "Simpleton\n",
      "result : [0 1 0 0 0 1 0 0 0 1 0 0 0 1 0 0 1 1 0 1] reward : 17\n",
      "Random_Game\n",
      "result : [0 1 0 0 0 1 0 1 0 1 0 0 0 1 0 0 1 1 0 1] reward : 20\n"
     ]
    }
   ],
   "source": [
    "model = PPO.load(\"./model/PPO_PrisonersGame\")\n",
    "\n",
    "obs, info = env.reset()\n",
    "num = 0\n",
    "total_reward = 0\n",
    "\n",
    "for i in range(8):\n",
    "    while True:\n",
    "        action, _states = model.predict(obs, deterministic=True)\n",
    "        obs, reward, terminated, truncated, info = env.step_select_op(i, action)\n",
    "        total_reward += reward\n",
    "\n",
    "        if terminated or truncated:        \n",
    "            print(env.Opponent_Game_type[i])\n",
    "            print(\"result :\", obs, \"reward :\", total_reward)\n",
    "            \n",
    "            obs, info = env.reset()    \n",
    "            num += 1\n",
    "            total_reward = 0\n",
    "            break "
   ]
  }
 ],
 "metadata": {
  "kernelspec": {
   "display_name": "venv",
   "language": "python",
   "name": "python3"
  },
  "language_info": {
   "codemirror_mode": {
    "name": "ipython",
    "version": 3
   },
   "file_extension": ".py",
   "mimetype": "text/x-python",
   "name": "python",
   "nbconvert_exporter": "python",
   "pygments_lexer": "ipython3",
   "version": "3.11.1"
  },
  "orig_nbformat": 4
 },
 "nbformat": 4,
 "nbformat_minor": 2
}
